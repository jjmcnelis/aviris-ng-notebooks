{
 "cells": [
  {
   "cell_type": "markdown",
   "metadata": {},
   "source": [
    "# Reading with `xarray`\n",
    "\n",
    "This notebook demonstrates some minimal raster/spatial operations with AVIRIS-NG files using the Python interface to GDAL.\n",
    "\n",
    "<h2 id=\"tocheading\">Table of Contents</h2>       \n",
    "<br>\n",
    "<div id=\"toc\"></div>     \n",
    "\n",
    "*This next cell calls a script to generate a TOC. It will display above when this notebook is opened in the Jupyter environment. Ignore.*"
   ]
  },
  {
   "cell_type": "code",
   "execution_count": 1,
   "metadata": {},
   "outputs": [
    {
     "data": {
      "application/javascript": [
       "$.getScript('scripts/tocgen.js')\n"
      ],
      "text/plain": [
       "<IPython.core.display.Javascript object>"
      ]
     },
     "metadata": {},
     "output_type": "display_data"
    }
   ],
   "source": [
    "%%javascript\n",
    "$.getScript('scripts/tocgen.js')"
   ]
  },
  {
   "cell_type": "markdown",
   "metadata": {},
   "source": [
    "## Workflow\n",
    "\n",
    "### Imports and example file\n",
    "Import requirements. Minimal packages:"
   ]
  },
  {
   "cell_type": "code",
   "execution_count": 2,
   "metadata": {},
   "outputs": [],
   "source": [
    "import numpy as np\n",
    "import xarray as xr"
   ]
  },
  {
   "cell_type": "markdown",
   "metadata": {},
   "source": [
    "#### Unzip and open tarfile\n",
    "AVIRIS-NG data files are distributed in a zipped tarfile. See the document `<link>` for more details. \n",
    "\n",
    "You can unzip the example file with the `tarfile` module like this:\n",
    "```python\n",
    "import tarfile\n",
    "\n",
    "with tarfile.open(\"data/ang20180814t224053rfl.tar.gz\", \"r:gz\") as tar:\n",
    "    tar.extractall()\n",
    "```"
   ]
  },
  {
   "cell_type": "markdown",
   "metadata": {},
   "source": [
    "See what's inside:"
   ]
  },
  {
   "cell_type": "code",
   "execution_count": 3,
   "metadata": {},
   "outputs": [
    {
     "data": {
      "text/plain": [
       "['data/ang20180814t224053_rfl_v2r2\\\\ang20180814t224053_corr_v2r2_img',\n",
       " 'data/ang20180814t224053_rfl_v2r2\\\\ang20180814t224053_corr_v2r2_img.hdr',\n",
       " 'data/ang20180814t224053_rfl_v2r2\\\\ang20180814t224053_h2o_v2r2_img',\n",
       " 'data/ang20180814t224053_rfl_v2r2\\\\ang20180814t224053_h2o_v2r2_img.hdr',\n",
       " 'data/ang20180814t224053_rfl_v2r2\\\\ang20180814t224053_README_v2r2.txt']"
      ]
     },
     "execution_count": 3,
     "metadata": {},
     "output_type": "execute_result"
    }
   ],
   "source": [
    "import glob\n",
    "glob.glob(\"data/ang20180814t224053_rfl_v2r2/*\")"
   ]
  },
  {
   "cell_type": "markdown",
   "metadata": {},
   "source": [
    "### Reading an image\n",
    "\n",
    "`xarray` can read an ENVI raster image through rasterio. This will be a far more convenient path to netCDF data structure for the average user. \n",
    "\n",
    "Open the example reflectance file:"
   ]
  },
  {
   "cell_type": "code",
   "execution_count": 4,
   "metadata": {},
   "outputs": [
    {
     "data": {
      "text/plain": [
       "<xarray.DataArray (band: 425, y: 4207, x: 637)>\n",
       "[1138940075 values with dtype=float32]\n",
       "Coordinates:\n",
       "  * band        (band) int32 1 2 3 4 5 6 7 8 ... 418 419 420 421 422 423 424 425\n",
       "    wavelength  (band) float64 376.9 381.9 386.9 ... 2.496e+03 2.501e+03\n",
       "Dimensions without coordinates: y, x\n",
       "Attributes:\n",
       "    transform:                (4.177675425873858, 2.9252398253903347, 447779....\n",
       "    crs:                      +init=epsg:32603\n",
       "    res:                      (5.1, 5.1)\n",
       "    is_tiled:                 0\n",
       "    nodatavals:               (-9999.0, -9999.0, -9999.0, -9999.0, -9999.0, -...\n",
       "    bad_pixel_map:            /home/winstono/isat-dev/ang/cal/data/ANGv5_bad\n",
       "    bands:                    425\n",
       "    bbl:                       0.0 , 1.0 , 1.0 , 1.0 , 1.0 , 1.0 , 1.0 , 1.0 ...\n",
       "    byte_order:               0\n",
       "    correction_factors:        0.942615 , 1.00196 , 1.021672 , 1.042766 , 1.0...\n",
       "    crosstrack_scatter_file:  /home/winstono/isat-dev/ang/cal/data/20170125_v...\n",
       "    data_ignore_value:        -9999\n",
       "    data_type:                4\n",
       "    description:                AVIRIS-NG Measured Radiances in uW nm-1 cm-2 ...\n",
       "    file_type:                ENVI\n",
       "    flat_field_file:          /home/winstono/isat-dev/ang/cal/data/20180727_a...\n",
       "    fwhm:                     [5.48 5.49 5.49 5.5  5.5  5.51 5.51 5.51 5.52 5...\n",
       "    header_offset:            0\n",
       "    interleave:               bil\n",
       "    lines:                    4207\n",
       "    radiance_version:         v2.0\n",
       "    rcc_file:                 /home/winstono/isat-dev/ang/cal/data/20180727_a...\n",
       "    samples:                  637\n",
       "    smoothing_factors:         1.0 , 1.0 , 1.0 , 1.0 , 1.0 , 1.0 , 1.0 , 1.0 ...\n",
       "    spectral_scatter_file:    /home/winstono/isat-dev/ang/cal/data/20170125_v...\n",
       "    wavelength_file:          /home/winstono/isat-dev/ang/cal/data/20170320_a...\n",
       "    wavelength_units:         Nanometers"
      ]
     },
     "execution_count": 4,
     "metadata": {},
     "output_type": "execute_result"
    }
   ],
   "source": [
    "img = 'data/ang20180814t224053_rfl_v2r2/ang20180814t224053_corr_v2r2_img'\n",
    "hdr = 'data/ang20180814t224053_rfl_v2r2/ang20180814t224053_corr_v2r2_img.hdr'\n",
    "\n",
    "ds = xr.open_rasterio(img)\n",
    "ds"
   ]
  },
  {
   "cell_type": "markdown",
   "metadata": {},
   "source": [
    "### Raster image shape\n",
    "GDAL makes accessing the shape of the image pretty easy:"
   ]
  },
  {
   "cell_type": "code",
   "execution_count": 5,
   "metadata": {},
   "outputs": [
    {
     "name": "stdout",
     "output_type": "stream",
     "text": [
      "bands:\t425\n",
      "cols:\t637\n",
      "rows:\t4207\n"
     ]
    }
   ],
   "source": [
    "bands = ds.band.size # band count\n",
    "cols = ds.x.size     # col count\n",
    "rows = ds.y.size     # row count\n",
    "\n",
    "print(\"bands:\\t\"+str(bands)) \n",
    "print(\"cols:\\t\"+str(cols))\n",
    "print(\"rows:\\t\"+str(rows))"
   ]
  },
  {
   "cell_type": "markdown",
   "metadata": {},
   "source": [
    "### Geotransform\n",
    "The geotransform is a tuple of parameters (6 floats) that defines the transformation from each pixel's x,y position in the image to its projected position in the reference coordinate system (affine transformation). \n",
    "\n",
    "**This website gives a clear, thorough explanation of affine transforms and their use in GIS:**         \n",
    "http://www.quantdec.com/GIS/affine.htm\n",
    "\n",
    "**More info on geographic transformation and GDAL's raster data model:**       \n",
    "https://www.gdal.org/gdal_datamodel.html\n",
    "\n",
    "Get the tuple (a little bit different from the one returned by GDAL with `ds.GetGeoTransform()`) from the `transform` attribute:"
   ]
  },
  {
   "cell_type": "code",
   "execution_count": 6,
   "metadata": {},
   "outputs": [
    {
     "data": {
      "text/plain": [
       "(4.177675425873858,\n",
       " 2.9252398253903347,\n",
       " 447779.369091,\n",
       " 2.9252398253903347,\n",
       " -4.177675425873858,\n",
       " 7185907.49943)"
      ]
     },
     "execution_count": 6,
     "metadata": {},
     "output_type": "execute_result"
    }
   ],
   "source": [
    "ds.attrs[\"transform\"]"
   ]
  },
  {
   "cell_type": "markdown",
   "metadata": {},
   "source": [
    "### Coordinate arrays\n",
    "\n",
    "To make a CF compliant netCDF we need:\n",
    "* 1-dimensional arrays of x and y coordinates (2)\n",
    "* 2-dimensional arrays of lon and lat coordinates (2)\n",
    "\n",
    "First generate the arrays of x and y coordinates. Unpack the geotransform into its component parts and make 1-d arrays with their origins at the top left corner of the raster like:\n",
    "```\n",
    "Coordinates calculated over interval equal to their resolution:\n",
    "    \n",
    "    xpos(i):  x_origin_in_meters + i*x_resolution\n",
    "    ypos(i):  y_origin_in_meters + i*y_resolution\n",
    "\n",
    "x_coordinate_array = xpos(sequence 0 to number_of_columns-1)\n",
    "y_coordinate_array = ypos(sequence 0 to number_of_rows-1)\n",
    "\n",
    "```"
   ]
  },
  {
   "cell_type": "code",
   "execution_count": 7,
   "metadata": {},
   "outputs": [
    {
     "name": "stdout",
     "output_type": "stream",
     "text": [
      "x[0]: \t447779.369091\n",
      "y[0]:\t7185907.49943\n"
     ]
    }
   ],
   "source": [
    "# get the raster geotransform as its component parts\n",
    "xres, xrot, xmin, yrot, yres, ymax = ds.attrs[\"transform\"]\n",
    "\n",
    "# generate coordinate arrays\n",
    "xarr = np.array([xmin+i*xres for i in range(0,cols)])\n",
    "yarr = np.array([ymax+i*yres for i in range(0,rows)])\n",
    "\n",
    "print(\"x[0]: \\t\"+str(xarr[0]))\n",
    "print(\"y[0]:\\t\"+str(yarr[0]))"
   ]
  },
  {
   "cell_type": "markdown",
   "metadata": {},
   "source": [
    "### Get 2d arrays of latitudes and longitudes\n"
   ]
  },
  {
   "cell_type": "markdown",
   "metadata": {},
   "source": [
    "`pyproj` is the Python interface to libproj. Use pyproj to transform the first pixel's `utm x,y -->> lon,lat`:"
   ]
  },
  {
   "cell_type": "code",
   "execution_count": 8,
   "metadata": {},
   "outputs": [
    {
     "data": {
      "text/plain": [
       "(-166.0989579203195, 64.79362088575823)"
      ]
     },
     "execution_count": 8,
     "metadata": {},
     "output_type": "execute_result"
    }
   ],
   "source": [
    "from pyproj import Proj, transform\n",
    "\n",
    "inproj = Proj(                  # add code to get proj4\n",
    "    \"+proj=utm +zone=3 +datum=WGS84 +units=m +no_defs\") \n",
    "outproj = Proj(init=\"epsg:4326\")\n",
    "lon, lat = transform(inproj, outproj, xarr[0], yarr[0])\n",
    "\n",
    "lon, lat"
   ]
  },
  {
   "cell_type": "markdown",
   "metadata": {},
   "source": [
    "Permute the x and y arrays with `np.meshgrid`:"
   ]
  },
  {
   "cell_type": "code",
   "execution_count": 9,
   "metadata": {},
   "outputs": [
    {
     "name": "stdout",
     "output_type": "stream",
     "text": [
      "Each array now has this shape:\t(4207, 637)\n"
     ]
    }
   ],
   "source": [
    "xarr2d, yarr2d = np.meshgrid(xarr, yarr)\n",
    "\n",
    "print(\"Each array now has this shape:\\t\"+str(xarr2d.shape))"
   ]
  },
  {
   "cell_type": "markdown",
   "metadata": {},
   "source": [
    "Flatten both arrays and pass to the `pyproj.transform` function:"
   ]
  },
  {
   "cell_type": "code",
   "execution_count": 10,
   "metadata": {},
   "outputs": [
    {
     "name": "stdout",
     "output_type": "stream",
     "text": [
      "lon[0]:\t-166.0989579203195\n",
      "lat[0]:\t64.79362088575823\n"
     ]
    }
   ],
   "source": [
    "lonarr, latarr = transform(\n",
    "    inproj,               # input raster srs\n",
    "    outproj,              # output raster srs\n",
    "    xarr2d.flatten(),     # flat 2d array of x coordinates\n",
    "    yarr2d.flatten())     # flat 2d array of y coordinates\n",
    "\n",
    "print(\"lon[0]:\\t\"+str(lonarr[0]))\n",
    "print(\"lat[0]:\\t\"+str(latarr[0]))"
   ]
  },
  {
   "cell_type": "markdown",
   "metadata": {},
   "source": [
    "Return the flat arrays to the shape of the raster:"
   ]
  },
  {
   "cell_type": "code",
   "execution_count": 11,
   "metadata": {},
   "outputs": [
    {
     "data": {
      "text/plain": [
       "(4207, 637)"
      ]
     },
     "execution_count": 11,
     "metadata": {},
     "output_type": "execute_result"
    }
   ],
   "source": [
    "lonarr2d = lonarr.reshape(xarr2d.shape)\n",
    "latarr2d = latarr.reshape(yarr2d.shape)\n",
    "\n",
    "lonarr2d.shape"
   ]
  },
  {
   "cell_type": "markdown",
   "metadata": {},
   "source": [
    "### Add coordinate arrays to the `xarray.Dataset`"
   ]
  },
  {
   "cell_type": "code",
   "execution_count": 12,
   "metadata": {},
   "outputs": [],
   "source": [
    "ds[\"y\"] = xr.DataArray(\n",
    "    data=yarr, \n",
    "    dims=(\"y\"), \n",
    "    name=\"y\",\n",
    "    attrs=dict(\n",
    "        units=\"m\",\n",
    "        standard_name=\"projection_y_coordinate\",\n",
    "        long_name=\"y coordinate of projection\"))\n",
    "\n",
    "ds[\"x\"] = xr.DataArray(\n",
    "    data=xarr, \n",
    "    dims=(\"x\"), \n",
    "    name=\"x\",\n",
    "    attrs=dict(\n",
    "        units=\"m\",\n",
    "        standard_name=\"projection_x_coordinate\",\n",
    "        long_name=\"x coordinate of projection\"))\n",
    "\n",
    "ds[\"lon\"] = xr.DataArray(\n",
    "    data=lonarr2d, \n",
    "    dims=(\"y\", \"x\"), \n",
    "    name=\"lon\",\n",
    "    attrs=dict(\n",
    "        units=\"degrees_east\",\n",
    "        standard_name=\"longitude\",\n",
    "        long_name=\"longitude coordinate\"))\n",
    "\n",
    "ds[\"lat\"] = xr.DataArray(\n",
    "    data=latarr2d, \n",
    "    dims=(\"y\", \"x\"), \n",
    "    name=\"lat\",\n",
    "    attrs=dict(\n",
    "        units=\"degrees_north\",\n",
    "        standard_name=\"latitude\",\n",
    "        long_name=\"latitude coordinate\"))\n",
    "\n",
    "ds.name = \"reflectance\"\n",
    "global_atts = ds.attrs\n",
    "global_atts[\"Conventions\"] = \"CF-1.6\"\n",
    "ds.attrs = dict(\n",
    "    units=\"unitless\",\n",
    "    _FillValue=-9999.\n",
    "    #coordinates=\"lon lat\",\n",
    "    grid_mapping=\"crs\",\n",
    "    standard_name=\"reflectance\",\n",
    "    long_name=\"atmospherically corrected surface reflectance\")\n",
    "\n",
    "\n",
    "ds = ds.to_dataset()\n",
    "ds.attrs.update(global_atts)"
   ]
  },
  {
   "cell_type": "markdown",
   "metadata": {},
   "source": [
    "### Encoding\n",
    "\n",
    "http://xarray.pydata.org/en/stable/generated/xarray.Dataset.to_netcdf.html#xarray.Dataset.to_netcdf\n"
   ]
  },
  {
   "cell_type": "code",
   "execution_count": 13,
   "metadata": {},
   "outputs": [],
   "source": [
    "ds.to_netcdf(\n",
    "    path=\"output/xarraytest.nc\",\n",
    "    encoding={\n",
    "        \"reflectance\": {\n",
    "            #\"dtype\": \"int16\",\n",
    "            #\"scale_factor\": 0.1,\n",
    "            \"zlib\": True,\n",
    "            \"complevel\": 4}})"
   ]
  },
  {
   "cell_type": "code",
   "execution_count": null,
   "metadata": {},
   "outputs": [],
   "source": []
  }
 ],
 "metadata": {
  "kernelspec": {
   "display_name": "Python 3",
   "language": "python",
   "name": "python3"
  },
  "language_info": {
   "codemirror_mode": {
    "name": "ipython",
    "version": 3
   },
   "file_extension": ".py",
   "mimetype": "text/x-python",
   "name": "python",
   "nbconvert_exporter": "python",
   "pygments_lexer": "ipython3",
   "version": "3.7.3"
  }
 },
 "nbformat": 4,
 "nbformat_minor": 2
}
