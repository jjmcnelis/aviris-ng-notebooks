{
 "cells": [
  {
   "cell_type": "markdown",
   "metadata": {},
   "source": [
    "# Reading with GDAL for Python\n",
    "\n",
    "This notebook demonstrates some minimal raster/spatial operations with AVIRIS-NG files using the Python interface to GDAL.\n",
    "\n",
    "<h2 id=\"tocheading\">Table of Contents</h2>       \n",
    "<br>\n",
    "<div id=\"toc\"></div>     \n",
    "\n",
    "*This next cell calls a script to generate a TOC. It will display above when this notebook is opened in the Jupyter environment. Ignore.*"
   ]
  },
  {
   "cell_type": "code",
   "execution_count": 1,
   "metadata": {},
   "outputs": [
    {
     "data": {
      "application/javascript": [
       "$.getScript('scripts/tocgen.js')\n"
      ],
      "text/plain": [
       "<IPython.core.display.Javascript object>"
      ]
     },
     "metadata": {},
     "output_type": "display_data"
    }
   ],
   "source": [
    "%%javascript\n",
    "$.getScript('scripts/tocgen.js')"
   ]
  },
  {
   "cell_type": "markdown",
   "metadata": {},
   "source": [
    "## Workflow\n",
    "\n",
    "### Imports and example file\n",
    "Import requirements. Minimal packages:"
   ]
  },
  {
   "cell_type": "code",
   "execution_count": 2,
   "metadata": {},
   "outputs": [],
   "source": [
    "import numpy as np\n",
    "from osgeo import gdal, osr"
   ]
  },
  {
   "cell_type": "markdown",
   "metadata": {},
   "source": [
    "#### Unzip and open tarfile\n",
    "AVIRIS-NG data files are distributed in a zipped tarfile. See the document `<link>` for more details. \n",
    "\n",
    "You can unzip the example file with the `tarfile` module like this:\n",
    "```python\n",
    "import tarfile\n",
    "\n",
    "with tarfile.open(\"data/ang20180814t224053rfl.tar.gz\", \"r:gz\") as tar:\n",
    "    tar.extractall()\n",
    "```"
   ]
  },
  {
   "cell_type": "markdown",
   "metadata": {},
   "source": [
    "See what's inside:"
   ]
  },
  {
   "cell_type": "code",
   "execution_count": 3,
   "metadata": {},
   "outputs": [
    {
     "data": {
      "text/plain": [
       "['data/ang20180814t224053_rfl_v2r2\\\\ang20180814t224053_corr_v2r2_img',\n",
       " 'data/ang20180814t224053_rfl_v2r2\\\\ang20180814t224053_corr_v2r2_img.hdr',\n",
       " 'data/ang20180814t224053_rfl_v2r2\\\\ang20180814t224053_h2o_v2r2_img',\n",
       " 'data/ang20180814t224053_rfl_v2r2\\\\ang20180814t224053_h2o_v2r2_img.hdr',\n",
       " 'data/ang20180814t224053_rfl_v2r2\\\\ang20180814t224053_README_v2r2.txt']"
      ]
     },
     "execution_count": 3,
     "metadata": {},
     "output_type": "execute_result"
    }
   ],
   "source": [
    "import glob\n",
    "glob.glob(\"data/ang20180814t224053_rfl_v2r2/*\")"
   ]
  },
  {
   "cell_type": "markdown",
   "metadata": {},
   "source": [
    "### Reading an image\n",
    "Open the example reflectance file:"
   ]
  },
  {
   "cell_type": "code",
   "execution_count": 4,
   "metadata": {},
   "outputs": [],
   "source": [
    "img = 'data/ang20180814t224053_rfl_v2r2/ang20180814t224053_corr_v2r2_img'\n",
    "hdr = 'data/ang20180814t224053_rfl_v2r2/ang20180814t224053_corr_v2r2_img.hdr'\n",
    "\n",
    "ds = gdal.Open(img)"
   ]
  },
  {
   "cell_type": "markdown",
   "metadata": {},
   "source": [
    "Open the header file:"
   ]
  },
  {
   "cell_type": "code",
   "execution_count": 5,
   "metadata": {},
   "outputs": [],
   "source": [
    "with open('data/ang20180814t224053_rfl_v2r2/ang20180814t224053_corr_v2r2_img.hdr','r') as f:\n",
    "    hdr = [ln.strip() for ln in f.readlines()]"
   ]
  },
  {
   "cell_type": "markdown",
   "metadata": {},
   "source": [
    "### Raster image shape\n",
    "GDAL makes accessing the shape of the image pretty easy:"
   ]
  },
  {
   "cell_type": "code",
   "execution_count": 6,
   "metadata": {},
   "outputs": [
    {
     "name": "stdout",
     "output_type": "stream",
     "text": [
      "bands:\t425\n",
      "cols:\t637\n",
      "rows:\t4207\n"
     ]
    }
   ],
   "source": [
    "bands = ds.RasterCount # band count\n",
    "cols = ds.RasterXSize  # col count\n",
    "rows = ds.RasterYSize  # row count\n",
    "\n",
    "print(\"bands:\\t\"+str(bands)) \n",
    "print(\"cols:\\t\"+str(cols))\n",
    "print(\"rows:\\t\"+str(rows))"
   ]
  },
  {
   "cell_type": "markdown",
   "metadata": {},
   "source": [
    "### Geotransform\n",
    "The geotransform is a tuple of parameters (6 floats) that defines the transformation from each pixel's x,y position in the image to its projected position in the reference coordinate system (affine transformation). \n",
    "\n",
    "**This website gives a clear, thorough explanation of affine transforms and their use in GIS:**         \n",
    "http://www.quantdec.com/GIS/affine.htm\n",
    "\n",
    "**More info on geographic transformation and GDAL's raster data model:**       \n",
    "https://www.gdal.org/gdal_datamodel.html\n",
    "\n",
    "Get the tuple with `ds.GetGeoTransform()`:"
   ]
  },
  {
   "cell_type": "code",
   "execution_count": 7,
   "metadata": {},
   "outputs": [
    {
     "data": {
      "text/plain": [
       "(447779.369091,\n",
       " 4.177675425873858,\n",
       " 2.9252398253903347,\n",
       " 7185907.49943,\n",
       " 2.9252398253903347,\n",
       " -4.177675425873858)"
      ]
     },
     "execution_count": 7,
     "metadata": {},
     "output_type": "execute_result"
    }
   ],
   "source": [
    "ds.GetGeoTransform()"
   ]
  },
  {
   "cell_type": "markdown",
   "metadata": {},
   "source": [
    "#### Calculate pixel coordinates\n",
    "The coordinates for each pixel are calculated like:\n",
    "```\n",
    "GT = ( 447779.369091,                        <-   0 x minimum (top left)\n",
    "       4.177675425873858,                    <-   1 x resolution\n",
    "       2.9252398253903347,                   <-   2 x rotation\n",
    "       7185907.49943,                        <-   3 y maximum (top left)\n",
    "       2.9252398253903347,                   <-   4 y rotation\n",
    "      -4.177675425873858 )                   <-   5 y resolution\n",
    "\n",
    "Xpixel                                       <-  x/column index of pixel\n",
    "Yline                                        <-  y/row index of pixel\n",
    "\n",
    "Xproj  = GT(0) + Xpixel*GT(1) + Yline*GT(2)  <-  x coordinate\n",
    "Yproj  = GT(3) + Xpixel*GT(4) + Yline*GT(5)  <-  y coordinate\n",
    "```\n",
    "\n",
    "Calculate the projected coordinates for the pixel at the bottom right corner `(column == 637, row == 4207)`:"
   ]
  },
  {
   "cell_type": "code",
   "execution_count": 8,
   "metadata": {},
   "outputs": [
    {
     "name": "stdout",
     "output_type": "stream",
     "text": [
      "x (m):\t462739.92936744756\n",
      "y (m):\t7170196.649117722\n"
     ]
    }
   ],
   "source": [
    "# transformation parameters\n",
    "GT = ds.GetGeoTransform()\n",
    "\n",
    "# pixel indices are base 0\n",
    "Xpixel, Yline = (cols - 1, rows - 1)\n",
    "\n",
    "# x,y calculate w affine transform equation\n",
    "Xproj = GT[0] + Xpixel*GT[1] + Yline*GT[2]\n",
    "Yproj = GT[3] + Xpixel*GT[4] + Yline*GT[5]\n",
    "\n",
    "print(\"x (m):\\t\"+str(Xproj))\n",
    "print(\"y (m):\\t\"+str(Yproj))"
   ]
  },
  {
   "cell_type": "markdown",
   "metadata": {},
   "source": [
    "### Coordinate arrays\n",
    "\n",
    "To make a CF compliant netCDF we need:\n",
    "* 1-dimensional arrays of x and y coordinates (2)\n",
    "* 2-dimensional arrays of lon and lat coordinates (2)\n",
    "\n",
    "First generate the arrays of x and y coordinates. Unpack the geotransform into its component parts and make 1-d arrays with their origins at the top left corner of the raster like:\n",
    "```\n",
    "Coordinates calculated over interval equal to their resolution:\n",
    "    \n",
    "    xpos(i):  x_origin_in_meters + i*x_resolution\n",
    "    ypos(i):  y_origin_in_meters + i*y_resolution\n",
    "\n",
    "x_coordinate_array = xpos(sequence 0 to number_of_columns-1)\n",
    "y_coordinate_array = ypos(sequence 0 to number_of_rows-1)\n",
    "\n",
    "```"
   ]
  },
  {
   "cell_type": "code",
   "execution_count": 9,
   "metadata": {},
   "outputs": [
    {
     "name": "stdout",
     "output_type": "stream",
     "text": [
      "x[0]: \t447779.369091\n",
      "y[0]:\t7185907.49943\n"
     ]
    }
   ],
   "source": [
    "# get the raster geotransform as its component parts\n",
    "xmin, xres, xrot, ymax, yrot, yres = ds.GetGeoTransform()\n",
    "\n",
    "# generate coordinate arrays\n",
    "xarr = np.array([xmin+i*xres for i in range(0,cols)])\n",
    "yarr = np.array([ymax+i*yres for i in range(0,rows)])\n",
    "\n",
    "print(\"x[0]: \\t\"+str(xarr[0]))\n",
    "print(\"y[0]:\\t\"+str(yarr[0]))"
   ]
  },
  {
   "cell_type": "markdown",
   "metadata": {},
   "source": [
    "### Get 2d arrays of latitudes and longitudes\n",
    "\n",
    "Use the `osr` package to get the proj4 string from the input raster dataset:"
   ]
  },
  {
   "cell_type": "code",
   "execution_count": 10,
   "metadata": {},
   "outputs": [
    {
     "data": {
      "text/plain": [
       "'+proj=utm +zone=3 +datum=WGS84 +units=m +no_defs '"
      ]
     },
     "execution_count": 10,
     "metadata": {},
     "output_type": "execute_result"
    }
   ],
   "source": [
    "native_srs = osr.SpatialReference()\n",
    "native_srs.ImportFromWkt(ds.GetProjection())\n",
    "proj4 = native_srs.ExportToProj4()\n",
    "\n",
    "proj4"
   ]
  },
  {
   "cell_type": "markdown",
   "metadata": {},
   "source": [
    "`pyproj` is the Python interface to libproj. Use pyproj to transform the first pixel's `utm x,y -->> lon,lat`:"
   ]
  },
  {
   "cell_type": "code",
   "execution_count": 11,
   "metadata": {},
   "outputs": [
    {
     "data": {
      "text/plain": [
       "(-166.0989579203195, 64.79362088575823)"
      ]
     },
     "execution_count": 11,
     "metadata": {},
     "output_type": "execute_result"
    }
   ],
   "source": [
    "from pyproj import Proj, transform\n",
    "\n",
    "inproj = Proj(proj4)\n",
    "outproj = Proj(init=\"epsg:4326\")\n",
    "lon, lat = transform(inproj, outproj, xarr[0], yarr[0])\n",
    "\n",
    "lon, lat"
   ]
  },
  {
   "cell_type": "markdown",
   "metadata": {},
   "source": [
    "Permute the x and y arrays with `np.meshgrid`:"
   ]
  },
  {
   "cell_type": "code",
   "execution_count": 12,
   "metadata": {},
   "outputs": [
    {
     "name": "stdout",
     "output_type": "stream",
     "text": [
      "Each array now has this shape:\t(4207, 637)\n"
     ]
    }
   ],
   "source": [
    "xarr2d, yarr2d = np.meshgrid(xarr, yarr)\n",
    "\n",
    "print(\"Each array now has this shape:\\t\"+str(xarr2d.shape))"
   ]
  },
  {
   "cell_type": "markdown",
   "metadata": {},
   "source": [
    "Flatten both arrays and pass to the `pyproj.transform` function:"
   ]
  },
  {
   "cell_type": "code",
   "execution_count": 13,
   "metadata": {},
   "outputs": [
    {
     "name": "stdout",
     "output_type": "stream",
     "text": [
      "lon[0]:\t-166.0989579203195\n",
      "lat[0]:\t64.79362088575823\n"
     ]
    }
   ],
   "source": [
    "lonarr, latarr = transform(\n",
    "    inproj,               # input raster srs\n",
    "    outproj,              # output raster srs\n",
    "    xarr2d.flatten(),     # flat 2d array of x coordinates\n",
    "    yarr2d.flatten())     # flat 2d array of y coordinates\n",
    "\n",
    "print(\"lon[0]:\\t\"+str(lonarr[0]))\n",
    "print(\"lat[0]:\\t\"+str(latarr[0]))"
   ]
  },
  {
   "cell_type": "markdown",
   "metadata": {},
   "source": [
    "Return the flat arrays to the shape of the raster:"
   ]
  },
  {
   "cell_type": "code",
   "execution_count": 14,
   "metadata": {},
   "outputs": [
    {
     "data": {
      "text/plain": [
       "(4207, 637)"
      ]
     },
     "execution_count": 14,
     "metadata": {},
     "output_type": "execute_result"
    }
   ],
   "source": [
    "lonarr2d = lonarr.reshape(xarr2d.shape)\n",
    "latarr2d = latarr.reshape(yarr2d.shape)\n",
    "\n",
    "lonarr2d.shape"
   ]
  }
 ],
 "metadata": {
  "kernelspec": {
   "display_name": "Python 3",
   "language": "python",
   "name": "python3"
  },
  "language_info": {
   "codemirror_mode": {
    "name": "ipython",
    "version": 3
   },
   "file_extension": ".py",
   "mimetype": "text/x-python",
   "name": "python",
   "nbconvert_exporter": "python",
   "pygments_lexer": "ipython3",
   "version": "3.7.3"
  }
 },
 "nbformat": 4,
 "nbformat_minor": 2
}
