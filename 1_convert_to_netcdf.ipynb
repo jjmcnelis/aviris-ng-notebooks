{
 "cells": [
  {
   "cell_type": "markdown",
   "metadata": {},
   "source": [
    "# Convert from ENVI to NetCDF\n",
    "\n",
    "This is a pure GDAL/netCDF4 implementation of conversion from ENVI raster image for AVIRIS-NG. I will document a simpler workflow using `xarray` some other time.\n",
    "\n",
    "<h2 id=\"tocheading\">Table of Contents</h2>       \n",
    "<br>\n",
    "<div id=\"toc\"></div>     \n",
    "\n",
    "*This next cell calls a script to generate the TOC above. Ignore.*"
   ]
  },
  {
   "cell_type": "code",
   "execution_count": 1,
   "metadata": {},
   "outputs": [
    {
     "data": {
      "application/javascript": [
       "$.getScript('scripts/tocgen.js')\n"
      ],
      "text/plain": [
       "<IPython.core.display.Javascript object>"
      ]
     },
     "metadata": {},
     "output_type": "display_data"
    }
   ],
   "source": [
    "%%javascript\n",
    "$.getScript('scripts/tocgen.js')"
   ]
  },
  {
   "cell_type": "markdown",
   "metadata": {},
   "source": [
    "## Review\n",
    "\n",
    "Define some functions that include all of the read/write and spatial logic that was covered in [the first notebook](0_read_write_with_python_gdal.ipynb):     "
   ]
  },
  {
   "cell_type": "code",
   "execution_count": 2,
   "metadata": {},
   "outputs": [],
   "source": [
    "def get_global_attributes(hdr):\n",
    "    \"\"\"Rudimentary parser for ENVI header file. Improve.\"\"\"\n",
    "    \n",
    "    with open(hdr,'r') as f:\n",
    "        header = [ln.strip() for ln in f.readlines()]\n",
    "\n",
    "        global_atts = dict(\n",
    "            description = header[2][:-1],\n",
    "            samples = header[3].split(\"=\")[1].strip(),\n",
    "            lines = header[4].split(\"=\")[1].strip(),\n",
    "            bands = header[5].split(\"=\")[1].strip(),\n",
    "            data_type = header[8].split(\"=\")[1].strip(),\n",
    "            source_type = header[7].split(\"=\")[1].strip(),\n",
    "            interleave = header[9].split(\"=\")[1].strip(),\n",
    "            byte_order = header[10].split(\"=\")[1].strip(),\n",
    "            map_info = header[11].split(\"=\")[1].strip(),\n",
    "            wavelength_units = header[13].split(\"=\")[1].strip(),\n",
    "            missing_value = header[24].split(\"=\")[1].strip())\n",
    "        global_atts[\"Conventions\"] = \"CF-1.6\"\n",
    "    \n",
    "    return(global_atts)\n",
    "    \n",
    "\n",
    "def get_shape(ds):\n",
    "    \"\"\"Get number of bands, columns, and rows in raster.\"\"\"\n",
    "    \n",
    "    return(ds.RasterCount,  # band count\n",
    "           ds.RasterXSize,  # col count\n",
    "           ds.RasterYSize)  # row count\n",
    "\n",
    "\n",
    "def get_xy_arrays(ds):\n",
    "    \"\"\"Generate two 1d x,y coordinate arrays.\"\"\"\n",
    "    \n",
    "    # get raster shape\n",
    "    bands, cols, rows = get_shape(ds)\n",
    "    \n",
    "    # get the raster geotransform as its component parts\n",
    "    xmin, xres, xrot, ymax, yrot, yres = ds.GetGeoTransform()\n",
    "    \n",
    "    # generate coordinate arrays\n",
    "    xarr = np.array([xmin+i*xres for i in range(0,cols)])\n",
    "    yarr = np.array([ymax+i*yres for i in range(0,rows)])\n",
    "\n",
    "    return(xarr, yarr)\n",
    "    \n",
    "    \n",
    "def get_proj(ds):\n",
    "    \"\"\"Returns the osr spatial reference object and proj4.\"\"\"\n",
    "    \n",
    "    native_srs = osr.SpatialReference()\n",
    "    native_srs.ImportFromWkt(ds.GetProjection())\n",
    "    proj4 = native_srs.ExportToProj4()\n",
    "    \n",
    "    return(native_srs, proj4)\n",
    "    \n",
    "    \n",
    "def get_latlon_arrays(ds):\n",
    "    \"\"\"Generate two 2d lat,lon coordinate arrays.\"\"\"\n",
    "    \n",
    "    native_srs, proj4 = get_proj(ds)\n",
    "    \n",
    "    inproj = Proj(proj4)\n",
    "    outproj = Proj(init=\"epsg:4326\")\n",
    "    \n",
    "    xarr, yarr = get_xy_arrays(ds)\n",
    "    lon, lat = transform(inproj, outproj, xarr[0], yarr[0])\n",
    "\n",
    "    # get two 2d arrays of lats and lons\n",
    "    xarr2d, yarr2d = np.meshgrid(xarr, yarr)\n",
    "\n",
    "    # flatten both arrays and transform\n",
    "    lonarr, latarr = transform(\n",
    "        inproj,                   # input raster srs\n",
    "        outproj,                  # output raster srs\n",
    "        xarr2d.flatten(),         # flat 2d array of x coordinates\n",
    "        yarr2d.flatten())         # flat 2d array of y coordinates\n",
    "\n",
    "    # return flat arrays to shape of input raster\n",
    "    lonarr2d = lonarr.reshape(xarr2d.shape)\n",
    "    latarr2d = latarr.reshape(yarr2d.shape)\n",
    "    \n",
    "    return(lonarr2d, latarr2d)"
   ]
  },
  {
   "cell_type": "markdown",
   "metadata": {},
   "source": [
    "## Workflow\n",
    "\n",
    "### Imports and example file\n",
    "Import requirements. Minimal packages:"
   ]
  },
  {
   "cell_type": "code",
   "execution_count": 3,
   "metadata": {},
   "outputs": [],
   "source": [
    "import numpy as np\n",
    "import netCDF4 as nc4\n",
    "from osgeo import gdal, osr\n",
    "from pyproj import Proj, transform\n",
    "\n",
    "from scripts.prog import log_progress # optional"
   ]
  },
  {
   "cell_type": "markdown",
   "metadata": {},
   "source": [
    "Example reflectance file:"
   ]
  },
  {
   "cell_type": "code",
   "execution_count": 4,
   "metadata": {},
   "outputs": [],
   "source": [
    "img = 'data/ang20180814t224053_rfl_v2r2/ang20180814t224053_corr_v2r2_img'\n",
    "hdr = 'data/ang20180814t224053_rfl_v2r2/ang20180814t224053_corr_v2r2_img.hdr'\n",
    "\n",
    "ds = gdal.Open(img)"
   ]
  },
  {
   "cell_type": "markdown",
   "metadata": {},
   "source": [
    "### Creating a new netCDF dataset\n",
    "\n",
    "The remaining the steps use the basic functionality of the Python interface to *libnetcdf* (maintained by Unidata).\n",
    "\n",
    "#### Open in write mode\n",
    "Open a netCDF4.Dataset for writing:"
   ]
  },
  {
   "cell_type": "code",
   "execution_count": 5,
   "metadata": {},
   "outputs": [
    {
     "data": {
      "text/plain": [
       "<class 'netCDF4._netCDF4.Dataset'>\n",
       "root group (NETCDF4 data model, file format HDF5):\n",
       "    dimensions(sizes): \n",
       "    variables(dimensions): \n",
       "    groups: "
      ]
     },
     "execution_count": 5,
     "metadata": {},
     "output_type": "execute_result"
    }
   ],
   "source": [
    "nc = nc4.Dataset(\"output/test.nc\", \"w\")  \n",
    "\n",
    "nc"
   ]
  },
  {
   "cell_type": "markdown",
   "metadata": {},
   "source": [
    "#### Add coordinate dimensions\n",
    "Use the `get_shape()` function defined above to get the shape of the raster image and add dimensions **band, y, x**:"
   ]
  },
  {
   "cell_type": "code",
   "execution_count": 6,
   "metadata": {},
   "outputs": [
    {
     "data": {
      "text/plain": [
       "<class 'netCDF4._netCDF4.Dataset'>\n",
       "root group (NETCDF4 data model, file format HDF5):\n",
       "    dimensions(sizes): band(0), y(4207), x(637)\n",
       "    variables(dimensions): \n",
       "    groups: "
      ]
     },
     "execution_count": 6,
     "metadata": {},
     "output_type": "execute_result"
    }
   ],
   "source": [
    "bands, cols, rows = get_shape(ds)           # get image shape\n",
    "\n",
    "band_dim = nc.createDimension('band')       # add band dim\n",
    "y_dim = nc.createDimension('y', size=rows)  # add y dim\n",
    "x_dim = nc.createDimension('x', size=cols)  # add x dim\n",
    "\n",
    "nc"
   ]
  },
  {
   "cell_type": "markdown",
   "metadata": {},
   "source": [
    "#### Add coordinate variables\n",
    "Use the `get_xy_arrays()` function defined above to get the two 1d arrays of x and y coordinates, then add the x and y variables with proper CF attributes:"
   ]
  },
  {
   "cell_type": "code",
   "execution_count": 7,
   "metadata": {},
   "outputs": [
    {
     "data": {
      "text/plain": [
       "<class 'netCDF4._netCDF4.Dataset'>\n",
       "root group (NETCDF4 data model, file format HDF5):\n",
       "    dimensions(sizes): band(0), y(4207), x(637)\n",
       "    variables(dimensions): float32 \u001b[4my\u001b[0m(y), float32 \u001b[4mx\u001b[0m(x)\n",
       "    groups: "
      ]
     },
     "execution_count": 7,
     "metadata": {},
     "output_type": "execute_result"
    }
   ],
   "source": [
    "xarr, yarr = get_xy_arrays(ds)\n",
    "\n",
    "y_var = nc.createVariable('y', 'float32', ('y'))\n",
    "y_var.units = \"m\"\n",
    "y_var.standard_name = \"projection_y_coordinate\"\n",
    "y_var.long_name = \"y coordinate of projection\"\n",
    "y_var[:] = yarr\n",
    "\n",
    "x_var = nc.createVariable('x', 'float32', ('x'))\n",
    "x_var.units = \"m\"\n",
    "x_var.standard_name = \"projection_x_coordinate\"\n",
    "x_var.long_name = \"x coordinate of projection\"\n",
    "x_var[:] = xarr\n",
    "\n",
    "nc"
   ]
  },
  {
   "cell_type": "markdown",
   "metadata": {},
   "source": [
    "Now add a variable to store the band numbers:"
   ]
  },
  {
   "cell_type": "code",
   "execution_count": 8,
   "metadata": {},
   "outputs": [],
   "source": [
    "bandnum_var = nc.createVariable('band', 'short', ('band'))\n",
    "bandnum_var.long_name = \"AVIRIS-NG band/channel number\"\n",
    "bandnum_var[:] = list(range(1, bands+1))"
   ]
  },
  {
   "cell_type": "markdown",
   "metadata": {},
   "source": [
    "#### Grid mapping\n",
    "Make a function to collect some attributes for the `crs` variable:"
   ]
  },
  {
   "cell_type": "code",
   "execution_count": 9,
   "metadata": {},
   "outputs": [],
   "source": [
    "def get_crs_attributes(ds):\n",
    "    \"\"\"Collect projection parameters for CRS variable.\"\"\"\n",
    "    \n",
    "    native_srs, proj4 = get_proj(ds)\n",
    "    \n",
    "    crs_atts = {\n",
    "        par: native_srs.GetProjParm(par) for par in [\n",
    "            \"scale_factor_at_central_meridian\",\n",
    "            \"longitude_of_central_meridian\",\n",
    "            \"latitude_of_projection_origin\",\n",
    "            \"false_easting\",\n",
    "            \"false_northing\"]}\n",
    "    \n",
    "    crs_atts[\"utm_zone\"] = native_srs.GetUTMZone()\n",
    "    crs_atts[\"proj4\"] = proj4\n",
    "    crs_atts[\"crs_wkt\"] = ds.GetProjection()\n",
    "    \n",
    "    return(crs_atts)"
   ]
  },
  {
   "cell_type": "markdown",
   "metadata": {},
   "source": [
    "Test the new function and add the `crs` variable to the file:"
   ]
  },
  {
   "cell_type": "code",
   "execution_count": 10,
   "metadata": {},
   "outputs": [
    {
     "name": "stdout",
     "output_type": "stream",
     "text": [
      "<class 'netCDF4._netCDF4.Variable'>\n",
      "int16 crs()\n",
      "    grid_mapping_name: transverse_mercator\n",
      "    scale_factor_at_central_meridian: 0.0\n",
      "    longitude_of_central_meridian: 0.0\n",
      "    latitude_of_projection_origin: 0.0\n",
      "    false_easting: 500000.0\n",
      "    false_northing: 0.0\n",
      "    utm_zone: 3\n",
      "    proj4: +proj=utm +zone=3 +datum=WGS84 +units=m +no_defs \n",
      "    crs_wkt: PROJCS[\"UTM Zone 3, Northern Hemisphere\",GEOGCS[\"WGS 84\",DATUM[\"WGS_1984\",SPHEROID[\"WGS 84\",6378137,298.257223563,AUTHORITY[\"EPSG\",\"7030\"]],AUTHORITY[\"EPSG\",\"6326\"]],PRIMEM[\"Greenwich\",0,AUTHORITY[\"EPSG\",\"8901\"]],UNIT[\"degree\",0.0174532925199433,AUTHORITY[\"EPSG\",\"9122\"]],AUTHORITY[\"EPSG\",\"4326\"]],PROJECTION[\"Transverse_Mercator\"],PARAMETER[\"latitude_of_origin\",0],PARAMETER[\"central_meridian\",-165],PARAMETER[\"scale_factor\",0.9996],PARAMETER[\"false_easting\",500000],PARAMETER[\"false_northing\",0],UNIT[\"Meter\",1]]\n",
      "unlimited dimensions: \n",
      "current shape = ()\n",
      "filling on, default _FillValue of -32767 used\n",
      "\n"
     ]
    }
   ],
   "source": [
    "crs_atts = get_crs_attributes(ds)\n",
    "\n",
    "crs_var = nc.createVariable('crs', 'short')\n",
    "crs_var.grid_mapping_name = \"transverse_mercator\"\n",
    "for att,val in crs_atts.items():\n",
    "    crs_var.setncattr(att,val)\n",
    "\n",
    "print(crs_var)"
   ]
  },
  {
   "cell_type": "markdown",
   "metadata": {},
   "source": [
    "#### Latitude and longitude variables\n",
    "The projected netCDF specification (CF) requires that 2-dimensional arrays be stored for both latitude and longitude. \n",
    "\n",
    "Use the function defined above `get_latlon_arrays()` to get the arrays and add the **lat, lon** variables:"
   ]
  },
  {
   "cell_type": "code",
   "execution_count": 11,
   "metadata": {},
   "outputs": [
    {
     "data": {
      "text/plain": [
       "<class 'netCDF4._netCDF4.Dataset'>\n",
       "root group (NETCDF4 data model, file format HDF5):\n",
       "    dimensions(sizes): band(425), y(4207), x(637)\n",
       "    variables(dimensions): float32 \u001b[4my\u001b[0m(y), float32 \u001b[4mx\u001b[0m(x), int16 \u001b[4mband\u001b[0m(band), int16 \u001b[4mcrs\u001b[0m(), float32 \u001b[4mlat\u001b[0m(y,x), float32 \u001b[4mlon\u001b[0m(y,x)\n",
       "    groups: "
      ]
     },
     "execution_count": 11,
     "metadata": {},
     "output_type": "execute_result"
    }
   ],
   "source": [
    "latarr2d, lonarr2d = get_latlon_arrays(ds)\n",
    "\n",
    "lat_var = nc.createVariable('lat', 'float32', ('y', 'x'))\n",
    "lat_var.units = \"degrees_north\"\n",
    "lat_var.standard_name = \"latitude\"\n",
    "lat_var.long_name = \"latitude coordinate\"\n",
    "lat_var[:,:] = latarr2d\n",
    "\n",
    "lon_var = nc.createVariable('lon', 'float32', ('y', 'x'))\n",
    "lon_var.units = \"degrees_east\"\n",
    "lon_var.standard_name = \"longitude\"\n",
    "lon_var.long_name = \"longitude coordinate\"\n",
    "lon_var[:,:] = lonarr2d\n",
    "\n",
    "nc"
   ]
  },
  {
   "cell_type": "markdown",
   "metadata": {},
   "source": [
    "#### Wavelength and reflectance variables\n",
    "\n",
    "Add two final variables to the file without setting values:\n",
    "1. a 1d variable (band dimension) to store the wavelength of the center of each band (floats)\n",
    "2. a 3d variable (band, y, x) to store the raster"
   ]
  },
  {
   "cell_type": "code",
   "execution_count": 12,
   "metadata": {},
   "outputs": [
    {
     "data": {
      "text/plain": [
       "<class 'netCDF4._netCDF4.Dataset'>\n",
       "root group (NETCDF4 data model, file format HDF5):\n",
       "    dimensions(sizes): band(425), y(4207), x(637)\n",
       "    variables(dimensions): float32 \u001b[4my\u001b[0m(y), float32 \u001b[4mx\u001b[0m(x), int16 \u001b[4mband\u001b[0m(band), int16 \u001b[4mcrs\u001b[0m(), float32 \u001b[4mlat\u001b[0m(y,x), float32 \u001b[4mlon\u001b[0m(y,x), float32 \u001b[4mband_wavelength\u001b[0m(band), float32 \u001b[4mreflectance\u001b[0m(y,x,band)\n",
       "    groups: "
      ]
     },
     "execution_count": 12,
     "metadata": {},
     "output_type": "execute_result"
    }
   ],
   "source": [
    "# add wavelength variable\n",
    "bandwav_var = nc.createVariable('band_wavelength', 'float32', ('band'))\n",
    "bandwav_var.units = \"nanometers\"\n",
    "bandwav_var.long_name = \"wavelength of band center\"\n",
    "\n",
    "# add reflectance variable\n",
    "refl_var = nc.createVariable('reflectance', 'float32', ('y', 'x', 'band'))\n",
    "refl_var.units = \"unitless\"\n",
    "refl_var.coordinates = \"lon lat\"\n",
    "refl_var.grid_mapping = \"crs\"\n",
    "refl_var.standard_name = \"reflectance\"\n",
    "refl_var.long_name = \"atmospherically corrected surface reflectance\"\n",
    "\n",
    "nc"
   ]
  },
  {
   "cell_type": "markdown",
   "metadata": {},
   "source": [
    "**Write buffered data to the output file:**"
   ]
  },
  {
   "cell_type": "code",
   "execution_count": 13,
   "metadata": {},
   "outputs": [],
   "source": [
    "nc.sync()"
   ]
  },
  {
   "cell_type": "markdown",
   "metadata": {},
   "source": [
    "### Read from ENVI and write to netCDF in a loop\n",
    "\n",
    "This last section demonstrates how to read from the ENVI raster image and write to the output netCDF in a loop (one band at a time) such that we never have more than one band of the image in memory at a time. \n",
    "\n",
    "#### Parsing band metadata from ENVI image\n",
    "This snippet is imperfect. It may not work for ENVI raster images that aren't generated by the standard AVIRIS-NG processing logic at JPL. Hard to say. But, here we are parsing the band number:center wavelength pairs accessible via GDAL through the band-level metadata:"
   ]
  },
  {
   "cell_type": "code",
   "execution_count": 14,
   "metadata": {},
   "outputs": [
    {
     "data": {
      "text/plain": [
       "376.85999999999996"
      ]
     },
     "execution_count": 14,
     "metadata": {},
     "output_type": "execute_result"
    }
   ],
   "source": [
    "import collections\n",
    "\n",
    "# make a dictionary of band number, band center pairs\n",
    "wl = {}\n",
    "for n, w in ds.GetMetadata().items():\n",
    "    if \"Band\" in n:\n",
    "        wl[int(n.split(\"_\")[1])] = float(w.split(\" \")[0])\n",
    "\n",
    "# convert to ordered dict and sort\n",
    "wl = collections.OrderedDict(sorted(wl.items()))\n",
    "wl[1]"
   ]
  },
  {
   "cell_type": "markdown",
   "metadata": {},
   "source": [
    "#### Writing in a loop\n",
    "Iterate over the length of the band dimension, writing each raster band to variable `reflectance` and its wavelength to variable `band_wavelength`:"
   ]
  },
  {
   "cell_type": "code",
   "execution_count": 15,
   "metadata": {},
   "outputs": [
    {
     "data": {
      "application/vnd.jupyter.widget-view+json": {
       "model_id": "11223b0b3c074dce9a149a7388ab4ba4",
       "version_major": 2,
       "version_minor": 0
      },
      "text/plain": [
       "VBox(children=(HTML(value=''), IntProgress(value=0, max=425)))"
      ]
     },
     "metadata": {},
     "output_type": "display_data"
    },
    {
     "data": {
      "text/plain": [
       "<class 'netCDF4._netCDF4.Dataset'>\n",
       "root group (NETCDF4 data model, file format HDF5):\n",
       "    dimensions(sizes): band(425), y(4207), x(637)\n",
       "    variables(dimensions): float32 \u001b[4my\u001b[0m(y), float32 \u001b[4mx\u001b[0m(x), int16 \u001b[4mband\u001b[0m(band), int16 \u001b[4mcrs\u001b[0m(), float32 \u001b[4mlat\u001b[0m(y,x), float32 \u001b[4mlon\u001b[0m(y,x), float32 \u001b[4mband_wavelength\u001b[0m(band), float32 \u001b[4mreflectance\u001b[0m(y,x,band)\n",
       "    groups: "
      ]
     },
     "execution_count": 15,
     "metadata": {},
     "output_type": "execute_result"
    }
   ],
   "source": [
    "for b in log_progress(range(1, nc.dimensions['band'].size + 1)):\n",
    "    #print(\"Writing band \" + str(b) + \" ... \")\n",
    "    \n",
    "    # get band b from input raster image\n",
    "    barr = ds.GetRasterBand(b).ReadAsArray()\n",
    "    \n",
    "    # set all -9999. to numpy.nan\n",
    "    barr[barr==-9999.] = np.nan\n",
    "    \n",
    "    # update the nc reflectance array for band b\n",
    "    nc.variables['reflectance'][:, :, b-1] = barr\n",
    "    \n",
    "    # update the nc wavelength array for band b\n",
    "    nc.variables['band_wavelength'][b-1] = wl[b]\n",
    "    \n",
    "    # write changes to disk\n",
    "    nc.sync()\n",
    "    \n",
    "nc"
   ]
  },
  {
   "cell_type": "markdown",
   "metadata": {},
   "source": [
    "#### Add global attributes\n",
    "\n",
    "Use the function defined above `get_global_attributes(<header_file.hdr>)` to get a dictionary of global attributes and add them to the netCDF in a loop:"
   ]
  },
  {
   "cell_type": "code",
   "execution_count": 16,
   "metadata": {},
   "outputs": [],
   "source": [
    "# get global attributes\n",
    "global_atts = get_global_attributes(hdr)\n",
    "\n",
    "# add global attributes\n",
    "for att,val in global_atts.items():\n",
    "    nc.setncattr(att,val)"
   ]
  },
  {
   "cell_type": "markdown",
   "metadata": {},
   "source": [
    "#### Close the file\n",
    "\n",
    "Do not forget to close the file! Python will close it during clean up when your session ends, but it's best to close manually:"
   ]
  },
  {
   "cell_type": "code",
   "execution_count": 17,
   "metadata": {},
   "outputs": [],
   "source": [
    "nc.close()"
   ]
  }
 ],
 "metadata": {
  "kernelspec": {
   "display_name": "Python 3",
   "language": "python",
   "name": "python3"
  },
  "language_info": {
   "codemirror_mode": {
    "name": "ipython",
    "version": 3
   },
   "file_extension": ".py",
   "mimetype": "text/x-python",
   "name": "python",
   "nbconvert_exporter": "python",
   "pygments_lexer": "ipython3",
   "version": "3.7.3"
  }
 },
 "nbformat": 4,
 "nbformat_minor": 2
}
